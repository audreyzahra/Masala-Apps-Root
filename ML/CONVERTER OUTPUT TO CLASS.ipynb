{
 "cells": [
  {
   "cell_type": "code",
   "execution_count": null,
   "id": "79438bb5",
   "metadata": {},
   "outputs": [],
   "source": [
    "databaru = pd.read_csv(\"databaru.csv\", encoding='UTF-8', sep=\";\")\n",
    "print(databaru)"
   ]
  },
  {
   "cell_type": "code",
   "execution_count": null,
   "id": "9c6ad451",
   "metadata": {},
   "outputs": [],
   "source": [
    "padding = seq_and_pad(databaru[\"Tweets\"], tokenizer, PADDING, MAXLEN)\n",
    "output = model.predict(padding)\n",
    "print(output)\n",
    "\n",
    "databaru[\"Labels\"]=\"\"\n",
    "print(databaru)\n",
    "for x in databaru.index:\n",
    "    print(output[x,].max())\n",
    "    if output[x,].max() == output[x,0]:\n",
    "        databaru[\"Labels\"][x] = \"Sosial\"\n",
    "    elif output[x,].max() == output[x,1]:\n",
    "        databaru[\"Labels\"][x] = \"infrastruktur\"\n",
    "    elif output[x,].max() == output[x,2]:\n",
    "        databaru[\"Labels\"][x] = \"Kesehatan\"\n",
    "    elif output[x,].max() == output[x,3]:\n",
    "        databaru[\"Labels\"][x] = \"Pendidikan\"\n",
    "    else:\n",
    "        print(\"a\")        \n",
    "    \n",
    "print(databaru)"
   ]
  }
 ],
 "metadata": {
  "kernelspec": {
   "display_name": "Python 3 (ipykernel)",
   "language": "python",
   "name": "python3"
  },
  "language_info": {
   "codemirror_mode": {
    "name": "ipython",
    "version": 3
   },
   "file_extension": ".py",
   "mimetype": "text/x-python",
   "name": "python",
   "nbconvert_exporter": "python",
   "pygments_lexer": "ipython3",
   "version": "3.9.7"
  }
 },
 "nbformat": 4,
 "nbformat_minor": 5
}
